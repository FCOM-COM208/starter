{
  "nbformat": 4,
  "nbformat_minor": 0,
  "metadata": {
    "colab": {
      "provenance": []
    },
    "kernelspec": {
      "name": "python3",
      "display_name": "Python 3"
    },
    "language_info": {
      "name": "python"
    }
  },
  "cells": [
    {
      "cell_type": "markdown",
      "source": [
        "\n",
        "\n"
      ],
      "metadata": {
        "id": "4iv7xpMhAVr2"
      }
    },
    {
      "cell_type": "code",
      "source": [],
      "metadata": {
        "id": "awKx7FTAQFfd"
      },
      "execution_count": null,
      "outputs": []
    },
    {
      "cell_type": "code",
      "source": [
        "# for\n",
        "\n",
        "# suma de los primeros 100 números\n",
        "\n",
        "suma = 0\n",
        "for i in range(101):\n",
        " suma = suma + i\n",
        "print(\"dentro\" + str(suma))\n",
        "\n",
        "print(\"total\"+ str(suma))"
      ],
      "metadata": {
        "colab": {
          "base_uri": "https://localhost:8080/"
        },
        "id": "0K1R_cktSvJp",
        "outputId": "5ed5c92d-95aa-4a80-cd88-6c7590243c5a"
      },
      "execution_count": null,
      "outputs": [
        {
          "output_type": "stream",
          "name": "stdout",
          "text": [
            "dentro5050\n",
            "total5050\n"
          ]
        }
      ]
    },
    {
      "cell_type": "code",
      "source": [
        "# Hacer un programa que imprima los números del 1 al 100 que sean divisibles entre 3 (con resto 0)\n",
        "\n",
        "for i in range(101):\n",
        "  if i % 3 == 0:\n",
        "    print(i)\n",
        "\n"
      ],
      "metadata": {
        "colab": {
          "base_uri": "https://localhost:8080/"
        },
        "id": "rMOlSxqmkGSd",
        "outputId": "a6ec85a4-a616-4863-ad4c-3c863811dcf3"
      },
      "execution_count": null,
      "outputs": [
        {
          "output_type": "stream",
          "name": "stdout",
          "text": [
            "0\n",
            "3\n",
            "6\n",
            "9\n",
            "12\n",
            "15\n",
            "18\n",
            "21\n",
            "24\n",
            "27\n",
            "30\n",
            "33\n",
            "36\n",
            "39\n",
            "42\n",
            "45\n",
            "48\n",
            "51\n",
            "54\n",
            "57\n",
            "60\n",
            "63\n",
            "66\n",
            "69\n",
            "72\n",
            "75\n",
            "78\n",
            "81\n",
            "84\n",
            "87\n",
            "90\n",
            "93\n",
            "96\n",
            "99\n"
          ]
        }
      ]
    },
    {
      "cell_type": "markdown",
      "source": [],
      "metadata": {
        "id": "v9rRn-BARirY"
      }
    },
    {
      "cell_type": "code",
      "source": [
        "# Pseudocódigo, Sumador y comparador de dos números\n",
        "\n",
        "# numeroi,numero2,suma,resultado\n",
        "#Inicio\n",
        "#Leer numeroi + numero2\n",
        "#suma = numeroi + numero2\n",
        "\n",
        "numero1 = int(input(\"Ingrese el primer numero: \"))\n",
        "numero2 = int(input(\"Ingrese el segundo numero: \"))\n",
        "suma = numero1 + numero2\n",
        "print(\"La suma es:\", suma)\n",
        "if suma < 100:\n",
        "  resultado= \"es menor a 100\"\n",
        "else:\n",
        "  if (suma > 100 and suma < 150):\n",
        "    resultado = \"es mayor a 100 y menor a 150\"\n",
        "  else:\n",
        "    resultado = \"es mayor a 150\"\n",
        "    print(resultado)\n",
        "\n",
        "\n"
      ],
      "metadata": {
        "id": "muT-BETZSHKi",
        "colab": {
          "base_uri": "https://localhost:8080/"
        },
        "outputId": "7cee6dd5-5ca8-45ec-88b7-164d8476fe1d"
      },
      "execution_count": null,
      "outputs": [
        {
          "output_type": "stream",
          "name": "stdout",
          "text": [
            "Ingrese el primer numero: 0\n",
            "Ingrese el segundo numero: 1\n",
            "La suma es: 1\n"
          ]
        }
      ]
    },
    {
      "cell_type": "code",
      "source": [
        "# @title Default title text\n",
        "# Pseudocódigo\n",
        "# Generar un programa que combine variables, tipos de datos y una condicional\n",
        "# edad,gustar_programar\n",
        "\n",
        "# Inicio\n",
        "# Leer edad y gusta_programar\n",
        "edad = int(input(\"Ingresa tu edad: \")) # Se agrega la linea para leer la edad del usuario\n",
        "gusta_programar = input(\"Te gusta programar? (responde con True o False): \")\n",
        "# Se agrega la linea para leer si le gusta programar\n",
        "gusta_programar = gusta_programar.lower() == 'true'\n",
        "# Convertir la respuesta a booleano\n",
        "if (edad > 18 and gusta_programar):\n",
        "  promedio = \"Eres mayor de edad y te gusta programar\"\n",
        "else:\n",
        "  pass  # or some other action if the condition is not met\n",
        "  promedio= \"Eres mayor de edad pero no te gusta programar\"\n",
        "#Fin Si\n",
        "print(promedio)\n"
      ],
      "metadata": {
        "colab": {
          "base_uri": "https://localhost:8080/"
        },
        "id": "MIie5pwjpuL8",
        "outputId": "62b54381-1111-4626-b226-662d62695a1c"
      },
      "execution_count": 27,
      "outputs": [
        {
          "output_type": "stream",
          "name": "stdout",
          "text": [
            "Ingresa tu edad: 20\n",
            "Te gusta programar? (responde con True o False): True\n",
            "Eres mayor de edad y te gusta programar\n"
          ]
        }
      ]
    },
    {
      "cell_type": "markdown",
      "source": [],
      "metadata": {
        "id": "hvetFznMXulc"
      }
    }
  ]
}